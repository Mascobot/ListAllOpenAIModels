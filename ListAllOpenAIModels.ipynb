{
 "cells": [
  {
   "cell_type": "code",
   "execution_count": null,
   "id": "71a36771",
   "metadata": {},
   "outputs": [],
   "source": [
    "import openai"
   ]
  },
  {
   "cell_type": "code",
   "execution_count": null,
   "id": "02a2c2b5",
   "metadata": {},
   "outputs": [],
   "source": [
    "openai.api_key = 'OPEN_AI_KEY'"
   ]
  },
  {
   "cell_type": "code",
   "execution_count": null,
   "id": "ac274bf8",
   "metadata": {},
   "outputs": [],
   "source": [
    "model_lst = openai.Model.list()\n",
    "filtered_models = []\n",
    "for i in range(len(model_lst['data'])):\n",
    "    print (model_lst['data'][i]['id'])#print all models available\n",
    "    if \"gpt-4\" in model_lst['data'][i]['id']:\n",
    "        filtered_models.append(model_lst['data'][i]['id'])\n",
    "print (\"Filtered Models: \", filtered_models)\n",
    "    "
   ]
  },
  {
   "cell_type": "code",
   "execution_count": null,
   "id": "fe59b73b",
   "metadata": {},
   "outputs": [],
   "source": [
    "len(model_lst['data'])"
   ]
  },
  {
   "cell_type": "code",
   "execution_count": null,
   "id": "ac7241cb",
   "metadata": {},
   "outputs": [],
   "source": []
  }
 ],
 "metadata": {
  "kernelspec": {
   "display_name": "Python 3 (ipykernel)",
   "language": "python",
   "name": "python3"
  },
  "language_info": {
   "codemirror_mode": {
    "name": "ipython",
    "version": 3
   },
   "file_extension": ".py",
   "mimetype": "text/x-python",
   "name": "python",
   "nbconvert_exporter": "python",
   "pygments_lexer": "ipython3",
   "version": "3.9.12"
  }
 },
 "nbformat": 4,
 "nbformat_minor": 5
}
